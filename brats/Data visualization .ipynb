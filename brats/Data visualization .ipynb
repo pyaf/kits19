{
 "cells": [
  {
   "cell_type": "markdown",
   "metadata": {},
   "source": [
    "Load imports"
   ]
  },
  {
   "cell_type": "code",
   "execution_count": 32,
   "metadata": {},
   "outputs": [],
   "source": [
    "\n",
    "import SimpleITK as sitk \n",
    "import os\n",
    "import cv2\n",
    "import cv2\n",
    "import numpy as np \n",
    "import seaborn as sns\n",
    "%matplotlib inline"
   ]
  },
  {
   "cell_type": "markdown",
   "metadata": {},
   "source": [
    "Read a singe label image "
   ]
  },
  {
   "cell_type": "code",
   "execution_count": 25,
   "metadata": {},
   "outputs": [
    {
     "data": {
      "text/plain": [
       "(512, 512, 611)"
      ]
     },
     "execution_count": 25,
     "metadata": {},
     "output_type": "execute_result"
    }
   ],
   "source": [
    "image = 'data/preprocessed/Pre-operative_TCGA_GBM_NIfTI_and_Segmentations/case_00000/truth.nii.gz'\n",
    "image = sitk.ReadImage(image)\n",
    "image = sitk.GetArrayFromImage(image)\n",
    "image.shape"
   ]
  },
  {
   "cell_type": "markdown",
   "metadata": {},
   "source": [
    "Lets check the max and min values"
   ]
  },
  {
   "cell_type": "code",
   "execution_count": 26,
   "metadata": {},
   "outputs": [
    {
     "data": {
      "text/plain": [
       "(0, 2)"
      ]
     },
     "execution_count": 26,
     "metadata": {},
     "output_type": "execute_result"
    }
   ],
   "source": [
    "image.min(), image.max()"
   ]
  },
  {
   "cell_type": "code",
   "execution_count": 27,
   "metadata": {},
   "outputs": [
    {
     "data": {
      "image/png": "[encoded data removed]",
      "text/plain": [
       "<Figure size 640x480 with 1 Axes>"
      ]
     },
     "metadata": {},
     "output_type": "display_data"
    }
   ],
   "source": [
    "from matplotlib.pyplot import figure\n",
    "import matplotlib.pyplot as plt\n",
    "import cv2\n",
    "\n",
    "figure(num=None, figsize=(8, 6), dpi=80, facecolor='w', edgecolor='k')\n",
    "vals = image.ravel()\n",
    "tentative_range = image.max() - image.min()\n",
    "b, bins, patches = plt.hist(vals, int(tentative_range))\n",
    "plt.xlim([image.min(),image.max()])\n",
    "plt.show()"
   ]
  },
  {
   "cell_type": "markdown",
   "metadata": {},
   "source": [
    "I dont understand the above figure, lets calculate percentages"
   ]
  },
  {
   "cell_type": "code",
   "execution_count": 44,
   "metadata": {},
   "outputs": [
    {
     "name": "stdout",
     "output_type": "stream",
     "text": [
      "Amount of Background pixels  99.41676338058447\n",
      "Amount of Kidney pixels  0.5716920094092036\n",
      "Amount of Tumor Pixels  0.011544610006329276\n"
     ]
    }
   ],
   "source": [
    "print('Amount of Background pixels ', (np.sum(image ==0) / len(np.ravel(image)) * 100))\n",
    "print('Amount of Kidney pixels ', (np.count_nonzero(image == 1) / len(np.ravel(image)) * 100))\n",
    "print('Amount of Tumor Pixels ',  (np.count_nonzero(image == 2) / len(np.ravel(image)) * 100))"
   ]
  },
  {
   "cell_type": "markdown",
   "metadata": {},
   "source": [
    "Lets do a sanity check "
   ]
  },
  {
   "cell_type": "code",
   "execution_count": 47,
   "metadata": {},
   "outputs": [
    {
     "data": {
      "text/plain": [
       "100.0"
      ]
     },
     "execution_count": 47,
     "metadata": {},
     "output_type": "execute_result"
    }
   ],
   "source": [
    "(np.sum(image ==0) / len(np.ravel(image)) * 100)+(np.count_nonzero(image == 1) / len(np.ravel(image)) * 100)+ (np.count_nonzero(image == 2) / len(np.ravel(image)) * 100)"
   ]
  },
  {
   "cell_type": "markdown",
   "metadata": {},
   "source": [
    "Okay, looks good - Lets do this for all images - But that will take a long time, instead, lets get an average for the whole dataset"
   ]
  },
  {
   "cell_type": "code",
   "execution_count": 65,
   "metadata": {},
   "outputs": [
    {
     "name": "stdout",
     "output_type": "stream",
     "text": [
      "Case case_00094 is Done \n",
      "Case case_00090 is Done \n",
      "Case case_00007 is Done \n",
      "Case case_00158 is Done \n",
      "Case case_00206 is Done \n",
      "Case case_00175 is Done \n",
      "Case case_00157 is Done \n",
      "Case case_00044 is Done \n",
      "Case case_00075 is Done \n",
      "Case case_00124 is Done \n",
      "Case case_00087 is Done \n",
      "Case case_00201 is Done \n",
      "Case case_00067 is Done \n",
      "Case case_00028 is Done \n",
      "Case case_00053 is Done \n",
      "Case case_00153 is Done \n",
      "Case case_00189 is Done \n",
      "Case case_00204 is Done \n",
      "Case case_00080 is Done \n",
      "Case case_00072 is Done \n",
      "Case case_00111 is Done \n",
      "Case case_00027 is Done \n",
      "Case case_00176 is Done \n",
      "Case case_00089 is Done \n",
      "Case case_00209 is Done \n",
      "Case case_00033 is Done \n",
      "Case case_00050 is Done \n",
      "Case case_00147 is Done \n",
      "Case case_00174 is Done \n",
      "Case case_00086 is Done \n",
      "Case case_00172 is Done \n",
      "Case case_00078 is Done \n",
      "Case case_00097 is Done \n",
      "Case case_00082 is Done \n",
      "Case case_00083 is Done \n",
      "Case case_00115 is Done \n",
      "Case case_00151 is Done \n",
      "Case case_00120 is Done \n",
      "Case case_00126 is Done \n",
      "Case case_00178 is Done \n",
      "Case case_00139 is Done \n",
      "Case case_00064 is Done \n",
      "Case case_00146 is Done \n",
      "Case case_00101 is Done \n",
      "Case case_00197 is Done \n",
      "Case case_00173 is Done \n",
      "Case case_00085 is Done \n",
      "Case case_00041 is Done \n",
      "Case case_00131 is Done \n",
      "Case case_00180 is Done \n",
      "Case case_00143 is Done \n",
      "Case case_00017 is Done \n",
      "Case case_00077 is Done \n",
      "Case case_00136 is Done \n",
      "Case case_00188 is Done \n",
      "Case case_00187 is Done \n",
      "Case case_00058 is Done \n",
      "Case case_00043 is Done \n",
      "Case case_00105 is Done \n",
      "Case case_00013 is Done \n",
      "Case case_00015 is Done \n",
      "Case case_00045 is Done \n",
      "Case case_00193 is Done \n",
      "Case case_00108 is Done \n",
      "Case case_00167 is Done \n",
      "Case case_00179 is Done \n",
      "Case case_00051 is Done \n",
      "Case case_00065 is Done \n",
      "Case case_00006 is Done \n",
      "Case case_00103 is Done \n",
      "Case case_00081 is Done \n",
      "Case case_00104 is Done \n",
      "Case case_00023 is Done \n",
      "Case case_00114 is Done \n",
      "Case case_00034 is Done \n",
      "Case case_00135 is Done \n",
      "Case case_00202 is Done \n",
      "Case case_00190 is Done \n",
      "Case case_00036 is Done \n",
      "Case case_00162 is Done \n",
      "Case case_00054 is Done \n",
      "Case case_00057 is Done \n",
      "Case case_00009 is Done \n",
      "Case case_00184 is Done \n",
      "Case case_00022 is Done \n",
      "Case case_00208 is Done \n",
      "Case case_00024 is Done \n",
      "Case case_00196 is Done \n",
      "Case case_00038 is Done \n",
      "Case case_00141 is Done \n",
      "Case case_00030 is Done \n",
      "Case case_00029 is Done \n",
      "Case case_00011 is Done \n",
      "Case case_00031 is Done \n",
      "Case case_00170 is Done \n",
      "Case case_00003 is Done \n",
      "Case case_00076 is Done \n",
      "Case case_00019 is Done \n",
      "Case case_00144 is Done \n",
      "Case case_00185 is Done \n",
      "Case case_00198 is Done \n",
      "Case case_00088 is Done \n",
      "Case case_00093 is Done \n",
      "Case case_00119 is Done \n",
      "Case case_00004 is Done \n",
      "Case case_00117 is Done \n",
      "Case case_00055 is Done \n",
      "Case case_00116 is Done \n",
      "Case case_00091 is Done \n",
      "Case case_00005 is Done \n",
      "Case case_00046 is Done \n",
      "Case case_00149 is Done \n",
      "Case case_00163 is Done \n",
      "Case case_00042 is Done \n",
      "Case case_00079 is Done \n",
      "Case case_00121 is Done \n",
      "Case case_00061 is Done \n",
      "Case case_00177 is Done \n",
      "Case case_00010 is Done \n",
      "Case case_00194 is Done \n",
      "Case case_00068 is Done \n",
      "Case case_00063 is Done \n",
      "Case case_00142 is Done \n",
      "Case case_00200 is Done \n",
      "Case case_00145 is Done \n",
      "Case case_00084 is Done \n",
      "Case case_00123 is Done \n",
      "Case case_00166 is Done \n",
      "Case case_00132 is Done \n",
      "Case case_00118 is Done \n",
      "Case case_00016 is Done \n",
      "Case case_00148 is Done \n",
      "Case case_00056 is Done \n",
      "Case case_00021 is Done \n",
      "Case case_00191 is Done \n",
      "Case case_00100 is Done \n",
      "Case case_00008 is Done \n",
      "Case case_00183 is Done \n",
      "Case case_00001 is Done \n",
      "Case case_00049 is Done \n",
      "Case case_00165 is Done \n",
      "Case case_00069 is Done \n",
      "Case case_00128 is Done \n",
      "Case case_00012 is Done \n",
      "Case case_00035 is Done \n",
      "Case case_00095 is Done \n",
      "Case case_00032 is Done \n",
      "Case case_00137 is Done \n",
      "Case case_00168 is Done \n",
      "Case case_00138 is Done \n",
      "Case case_00106 is Done \n",
      "Case case_00125 is Done \n",
      "Case case_00199 is Done \n",
      "Case case_00133 is Done \n",
      "Case case_00150 is Done \n",
      "Case case_00129 is Done \n",
      "Case case_00047 is Done \n",
      "Case case_00039 is Done \n",
      "Case case_00160 is Done \n",
      "Case case_00122 is Done \n",
      "Case case_00134 is Done \n",
      "Case case_00203 is Done \n",
      "Case case_00048 is Done \n",
      "Case case_00052 is Done \n",
      "Case case_00102 is Done \n",
      "Case case_00161 is Done \n",
      "Case case_00059 is Done \n",
      "Case case_00154 is Done \n",
      "Case case_00171 is Done \n",
      "Case case_00140 is Done \n",
      "Case case_00169 is Done \n",
      "Case case_00113 is Done \n",
      "Case case_00096 is Done \n",
      "Case case_00195 is Done \n",
      "Case case_00127 is Done \n",
      "Case case_00000 is Done \n",
      "Case case_00026 is Done \n",
      "Case case_00155 is Done \n",
      "Case case_00062 is Done \n",
      "Case case_00186 is Done \n",
      "Case case_00181 is Done \n",
      "Case case_00020 is Done \n",
      "Case case_00025 is Done \n",
      "Case case_00070 is Done \n",
      "Case case_00018 is Done \n",
      "Case case_00002 is Done \n",
      "Case case_00207 is Done \n",
      "Case case_00066 is Done \n",
      "Case case_00060 is Done \n",
      "Case case_00110 is Done \n",
      "Case case_00156 is Done \n",
      "Case case_00092 is Done \n",
      "Case case_00098 is Done \n",
      "Case case_00071 is Done \n",
      "Case case_00109 is Done \n",
      "Case case_00112 is Done \n",
      "Case case_00074 is Done \n",
      "Case case_00073 is Done \n",
      "Case case_00182 is Done \n",
      "Case case_00099 is Done \n",
      "Case case_00014 is Done \n",
      "Case case_00040 is Done \n",
      "Case case_00130 is Done \n",
      "Case case_00037 is Done \n",
      "Case case_00205 is Done \n",
      "Case case_00159 is Done \n",
      "Case case_00107 is Done \n",
      "Case case_00192 is Done \n",
      "Case case_00152 is Done \n",
      "Case case_00164 is Done \n"
     ]
    }
   ],
   "source": [
    "number_of_background_pixels =[]\n",
    "number_of_kidney_pixels =[]\n",
    "number_of_tumor_pixels =[]\n",
    "all_cases_pixels =[]\n",
    "image_folder = 'data/preprocessed/Pre-operative_TCGA_GBM_NIfTI_and_Segmentations'\n",
    "for item in os.listdir(image_folder):\n",
    "    image = sitk.ReadImage(os.path.join(image_folder, item ,'truth.nii.gz'))\n",
    "    image = sitk.GetArrayFromImage(image)\n",
    "    number_of_background_pixels.append(np.sum(image == 0))\n",
    "    number_of_kidney_pixels.append(np.sum(image == 1))\n",
    "    number_of_tumor_pixels.append(np.sum(image == 2))\n",
    "    print('Case {} is Done '.format(item))"
   ]
  },
  {
   "cell_type": "code",
   "execution_count": null,
   "metadata": {},
   "outputs": [],
   "source": [
    "sum_background = np.sum(np.array(number_of_background_pixels))\n",
    "sum_kidney = np.sum(np.array(number_of_kidney_pixels))\n",
    "sum_tumor = np.sum(np.array(number_of_tumor_pixels))"
   ]
  },
  {
   "cell_type": "code",
   "execution_count": null,
   "metadata": {},
   "outputs": [],
   "source": [
    "total_image = sum_background+sum_kidney+sum_tumor"
   ]
  },
  {
   "cell_type": "code",
   "execution_count": 70,
   "metadata": {},
   "outputs": [
    {
     "name": "stdout",
     "output_type": "stream",
     "text": [
      "Amount of Background pixels  99.14488385650839\n",
      "Amount of Kidney pixels  0.6878345526661502\n",
      "Amount of Tumor Pixels  0.16728159082546376\n"
     ]
    }
   ],
   "source": [
    "print('Amount of Background pixels ', (sum_background / total_image * 100))\n",
    "print('Amount of Kidney pixels ', (sum_kidney / total_image * 100))\n",
    "print('Amount of Tumor Pixels ',  sum_tumor / total_image * 100)"
   ]
  }
 ],
 "metadata": {
  "kernelspec": {
   "display_name": "Python 3",
   "language": "python",
   "name": "python3"
  },
  "language_info": {
   "codemirror_mode": {
    "name": "ipython",
    "version": 3
   },
   "file_extension": ".py",
   "mimetype": "text/x-python",
   "name": "python",
   "nbconvert_exporter": "python",
   "pygments_lexer": "ipython3",
   "version": "3.6.7"
  }
 },
 "nbformat": 4,
 "nbformat_minor": 2
}
